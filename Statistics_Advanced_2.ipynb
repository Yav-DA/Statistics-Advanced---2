{
  "nbformat": 4,
  "nbformat_minor": 0,
  "metadata": {
    "colab": {
      "provenance": []
    },
    "kernelspec": {
      "name": "python3",
      "display_name": "Python 3"
    },
    "language_info": {
      "name": "python"
    }
  },
  "cells": [
    {
      "cell_type": "markdown",
      "source": [
        "Q1: What is hypothesis testing in statistics?\n",
        "* Hypothesis testing is a formal procedure that uses sample data to evaluate competing statements about a population parameter. You posit a null hypothesis\n",
        "𝐻\n",
        "0\n",
        " (baseline claim, often “no effect” or a specific value) and an alternative hypothesis\n",
        "𝐻\n",
        "1\n",
        " (the effect/difference you’re looking for). You compute a test statistic from the sample, find its p-value assuming\n",
        "𝐻\n",
        "0\n",
        " is true, and then:\n",
        "\n",
        "* If p-value ≤ chosen significance level\n",
        "𝛼\n",
        "α, you reject\n",
        "𝐻\n",
        "0\n",
        " in favor of\n",
        "𝐻\n",
        "1\n",
        "\n",
        "* Otherwise, you fail to reject\n",
        "𝐻\n",
        "0\n",
        " (insufficient evidence against it).\n",
        "\n",
        "* Core flow: define\n",
        "𝐻\n",
        "0\n",
        "/\n",
        "𝐻\n",
        "1\n",
        " → choose\n",
        "𝛼\n",
        "α → pick test & check assumptions → compute statistic & p-value/critical value → decision → practical interpretation."
      ],
      "metadata": {
        "id": "ijxhXd0gE_bM"
      }
    },
    {
      "cell_type": "code",
      "source": [
        "import numpy as np\n",
        "from scipy import stats\n",
        "\n",
        "# Suppose we want to test if the mean height differs from 170 cm\n",
        "np.random.seed(1)\n",
        "sample = np.random.normal(loc=172, scale=5, size=30)\n",
        "\n",
        "t_stat, p_value = stats.ttest_1samp(sample, 170)\n",
        "\n",
        "print(\"T-statistic:\", t_stat)\n",
        "print(\"p-value:\", p_value)\n",
        "\n",
        "if p_value < 0.05:\n",
        "    print(\"Reject H0: Mean ≠ 170\")\n",
        "else:\n",
        "    print(\"Fail to reject H0\")"
      ],
      "metadata": {
        "colab": {
          "base_uri": "https://localhost:8080/"
        },
        "id": "4mgyP9CJFPoc",
        "outputId": "52b1f58b-2609-4bed-f355-5da084861785"
      },
      "execution_count": 8,
      "outputs": [
        {
          "output_type": "stream",
          "name": "stdout",
          "text": [
            "T-statistic: 1.8147452628510472\n",
            "p-value: 0.0799200926599443\n",
            "Fail to reject H0\n"
          ]
        }
      ]
    },
    {
      "cell_type": "markdown",
      "source": [
        "Q2: What is the null hypothesis, and how does it differ from the alternative\n",
        "hypothesis?\n",
        "* Null hypothesis\n",
        "𝐻\n",
        "0\n",
        ": a precise, testable baseline statement (e.g.,\n",
        "𝜇\n",
        "=\n",
        "50\n",
        "μ=50) used to compute probabilities.\n",
        "\n",
        "* Alternative hypothesis\n",
        "𝐻\n",
        "1\n",
        ": the rival claim you seek evidence for (e.g.,\n",
        "𝜇\n",
        "≠\n",
        "50\n",
        "μ\n",
        "\n",
        "=50,\n",
        "𝜇\n",
        ">\n",
        "50\n",
        "μ>50, or\n",
        "𝜇\n",
        "<\n",
        "50\n",
        "μ<50).\n",
        "* Difference:\n",
        "𝐻\n",
        "0\n",
        " is the status-quo benchmark;\n",
        "𝐻\n",
        "1\n",
        " represents a deviation/effect. Decisions are framed as “reject\n",
        "𝐻\n",
        "0\n",
        "” or “fail to reject\n",
        "𝐻\n",
        "0\n",
        "”; we never prove\n",
        "𝐻\n",
        "0\n",
        " true."
      ],
      "metadata": {
        "id": "GAAY5dXCFcby"
      }
    },
    {
      "cell_type": "code",
      "source": [
        "# Null hypothesis (H0): average daily sales = 500\n",
        "# Alternative hypothesis (H1): average daily sales ≠ 500\n",
        "\n",
        "sales = [480, 505, 495, 510, 490, 500, 515]\n",
        "\n",
        "from scipy import stats\n",
        "t_stat, p_value = stats.ttest_1samp(sales, 500)\n",
        "\n",
        "print(\"Mean sales:\", sum(sales)/len(sales))\n",
        "print(\"T-stat:\", t_stat, \"p-value:\", p_value)\n",
        "\n",
        "if p_value < 0.05:\n",
        "    print(\"Reject H0 -> Evidence sales differ from 500\")\n",
        "else:\n",
        "    print(\"Fail to reject H0 -> No evidence of difference\")"
      ],
      "metadata": {
        "colab": {
          "base_uri": "https://localhost:8080/"
        },
        "id": "R9YyHDCRF3id",
        "outputId": "3fcc248b-0379-417b-d4c1-c0c34246b861"
      },
      "execution_count": 9,
      "outputs": [
        {
          "output_type": "stream",
          "name": "stdout",
          "text": [
            "Mean sales: 499.2857142857143\n",
            "T-stat: -0.1568125120467968 p-value: 0.8805362023620841\n",
            "Fail to reject H0 -> No evidence of difference\n"
          ]
        }
      ]
    },
    {
      "cell_type": "markdown",
      "source": [
        "Q3: Explain the significance level in hypothesis testing and its role in deciding the outcome of a test.\n",
        "* The significance level\n",
        "𝛼\n",
        "α (often 0.05) is the maximum probability of a Type I error you are willing to tolerate—i.e., rejecting\n",
        "𝐻\n",
        "0\n",
        " when it’s actually true. It sets the threshold for evidence:\n",
        "p-value approach: reject\n",
        "𝐻\n",
        "0\n",
        " if p-value ≤\n",
        "𝛼\n",
        "α.\n",
        "\n",
        "* Critical-value approach: define rejection region(s) so that\n",
        "𝑃\n",
        "(\n",
        "reject\n",
        "∣\n",
        "𝐻\n",
        "0\n",
        ")\n",
        "=\n",
        "𝛼\n",
        "P(reject∣H\n",
        "0\n",
        ")=α.\n",
        "Smaller\n",
        "𝛼\n",
        "α demands stronger evidence (harder to reject\n",
        "𝐻\n",
        "0\n",
        ")."
      ],
      "metadata": {
        "id": "7mVwowMhF83D"
      }
    },
    {
      "cell_type": "code",
      "source": [
        "# Hypothesis: mean weight = 60\n",
        "weights = [59, 61, 62, 60, 58, 63, 61]\n",
        "\n",
        "t_stat, p_value = stats.ttest_1samp(weights, 60)\n",
        "\n",
        "alpha = 0.05\n",
        "print(\"p-value:\", p_value)\n",
        "\n",
        "if p_value < alpha:\n",
        "    print(\"Reject H0 at 5% level\")\n",
        "else:\n",
        "    print(\"Fail to reject H0 at 5% level\")"
      ],
      "metadata": {
        "colab": {
          "base_uri": "https://localhost:8080/"
        },
        "id": "E4_FGqegGFg4",
        "outputId": "7c791b0f-c9d7-475b-9ffc-34aca5439a0d"
      },
      "execution_count": 10,
      "outputs": [
        {
          "output_type": "stream",
          "name": "stdout",
          "text": [
            "p-value: 0.41277302537781607\n",
            "Fail to reject H0 at 5% level\n"
          ]
        }
      ]
    },
    {
      "cell_type": "markdown",
      "source": [
        "Q4: What are Type I and Type II errors? Give examples of each.\n",
        "* Null hypothesis\n",
        "𝐻\n",
        "0\n",
        ": a precise, testable baseline statement (e.g.,\n",
        "𝜇\n",
        "=\n",
        "50\n",
        "μ=50) used to compute probabilities.\n",
        "\n",
        "* Alternative hypothesis\n",
        "𝐻\n",
        "1\n",
        ": the rival claim you seek evidence for (e.g.,\n",
        "𝜇\n",
        "≠\n",
        "50\n",
        "μ\n",
        "\n",
        "=50,\n",
        "𝜇\n",
        ">\n",
        "50\n",
        "μ>50, or\n",
        "𝜇\n",
        "<\n",
        "50\n",
        "μ<50).\n",
        "* Difference:\n",
        "𝐻\n",
        "0\n",
        " is the status-quo benchmark;\n",
        "𝐻\n",
        "1\n",
        " represents a deviation/effect. Decisions are framed as “reject\n",
        "𝐻\n",
        "0\n",
        "” or “fail to reject\n",
        "𝐻\n",
        "0\n",
        "”; we never prove\n",
        "𝐻\n",
        "0\n",
        " true."
      ],
      "metadata": {
        "id": "zDuQzYXZEAos"
      }
    },
    {
      "cell_type": "code",
      "source": [
        "import numpy as np\n",
        "from scipy import stats\n",
        "\n",
        "np.random.seed(42)\n",
        "mu_true = 100   # true mean\n",
        "sample = np.random.normal(mu_true, 10, 50)\n",
        "\n",
        "# H0: mean = 100\n",
        "# H1: mean ≠ 100\n",
        "t_stat, p_value = stats.ttest_1samp(sample, 100)\n",
        "\n",
        "alpha = 0.05\n",
        "if p_value < alpha:\n",
        "    print(\"Reject H0 -> could be Type I error if H0 is true\")\n",
        "else:\n",
        "    print(\"Fail to reject H0 -> could be Type II error if H0 is false\")"
      ],
      "metadata": {
        "colab": {
          "base_uri": "https://localhost:8080/"
        },
        "id": "MRjV1U1CEwJ8",
        "outputId": "715946b1-b14e-4c75-a3aa-aa027ff3b5a9"
      },
      "execution_count": 6,
      "outputs": [
        {
          "output_type": "stream",
          "name": "stdout",
          "text": [
            "Fail to reject H0 -> could be Type II error if H0 is false\n"
          ]
        }
      ]
    },
    {
      "cell_type": "markdown",
      "source": [
        "Q5: What is the difference between a Z-test and a T-test? Explain when to use\n",
        "each.\n",
        "* Hypothesis testing is a formal procedure that uses sample data to evaluate competing statements about a population parameter. You posit a null hypothesis\n",
        "𝐻\n",
        "0\n",
        " (baseline claim, often “no effect” or a specific value) and an alternative hypothesis\n",
        "𝐻\n",
        "1\n",
        " (the effect/difference you’re looking for). You compute a test statistic from the sample, find its p-value assuming\n",
        "𝐻\n",
        "0\n",
        " is true, and then:\n",
        "\n",
        "* If p-value ≤ chosen significance level\n",
        "𝛼\n",
        "α, you reject\n",
        "𝐻\n",
        "0\n",
        " in favor of\n",
        "𝐻\n",
        "1\n",
        "\n",
        "* Otherwise, you fail to reject\n",
        "𝐻\n",
        "0\n",
        " (insufficient evidence against it).\n",
        "\n",
        "* Core flow: define\n",
        "𝐻\n",
        "0\n",
        "/\n",
        "𝐻\n",
        "1\n",
        " → choose\n",
        "𝛼\n",
        "α → pick test & check assumptions → compute statistic & p-value/critical value → decision → practical interpretation."
      ],
      "metadata": {
        "id": "ncMiR2z3DAqa"
      }
    },
    {
      "cell_type": "code",
      "source": [
        "import numpy as np\n",
        "from math import sqrt\n",
        "from scipy import stats\n",
        "\n",
        "data = np.array([5.1, 5.0, 5.2, 5.3, 5.1, 5.4, 5.2, 5.0])\n",
        "mu0 = 5.0\n",
        "n = len(data)\n",
        "\n",
        "# --- T-test (σ unknown) ---\n",
        "t_stat, p_value = stats.ttest_1samp(data, mu0)\n",
        "print(\"T-test:\", t_stat, p_value)\n",
        "\n",
        "# --- Z-test (σ assumed known = 0.1) ---\n",
        "sigma_known = 0.1\n",
        "xbar = data.mean()\n",
        "z_stat = (xbar - mu0) / (sigma_known / sqrt(n))\n",
        "p_val_z = 2 * (1 - stats.norm.cdf(abs(z_stat)))\n",
        "print(\"Z-test:\", z_stat, p_val_z)"
      ],
      "metadata": {
        "colab": {
          "base_uri": "https://localhost:8080/"
        },
        "id": "_LrnjE5gC_GV",
        "outputId": "a934f00f-2a40-4ce9-eec9-a3bd98ebcc61"
      },
      "execution_count": 7,
      "outputs": [
        {
          "output_type": "stream",
          "name": "stdout",
          "text": [
            "T-test: 3.2646068151704877 0.01377648436154405\n",
            "Z-test: 4.596194077712549 4.302779463616346e-06\n"
          ]
        }
      ]
    },
    {
      "cell_type": "markdown",
      "source": [
        "Q6: Write a Python program to generate a binomial distribution with n=10 and\n",
        "p=0.5, then plot its histogram.\n",
        "\n",
        "Hint: Generate random number using random function."
      ],
      "metadata": {
        "id": "a3rquOg0BlW-"
      }
    },
    {
      "cell_type": "code",
      "execution_count": 1,
      "metadata": {
        "colab": {
          "base_uri": "https://localhost:8080/",
          "height": 508
        },
        "id": "WAiy9QWjA5Py",
        "outputId": "62e468bd-bd74-41d1-ff5c-0a17db4e8860"
      },
      "outputs": [
        {
          "output_type": "stream",
          "name": "stdout",
          "text": [
            "Empirical mean=4.968, var=2.467\n",
            "Theoretical mean=5.000, var=2.500\n"
          ]
        },
        {
          "output_type": "display_data",
          "data": {
            "text/plain": [
              "<Figure size 640x480 with 1 Axes>"
            ],
            "image/png": "[encoded data removed]"
          },
          "metadata": {}
        }
      ],
      "source": [
        "import numpy as np\n",
        "import matplotlib.pyplot as plt\n",
        "\n",
        "np.random.seed(42)\n",
        "n, p, size = 10, 0.5, 10000\n",
        "samples = np.random.binomial(n, p, size=size)\n",
        "\n",
        "print(f\"Empirical mean={samples.mean():.3f}, var={samples.var():.3f}\")\n",
        "print(f\"Theoretical mean={n*p:.3f}, var={n*p*(1-p):.3f}\")\n",
        "\n",
        "plt.figure()\n",
        "plt.hist(samples, bins=np.arange(-0.5, n+1.5, 1), edgecolor='black', density=True)\n",
        "plt.title(\"Binomial(n=10, p=0.5) — Histogram\")\n",
        "plt.xlabel(\"Number of successes in 10 trials\")\n",
        "plt.ylabel(\"Density\")\n",
        "plt.show()"
      ]
    },
    {
      "cell_type": "markdown",
      "source": [
        "Q7: Implement hypothesis testing using Z-statistics for a sample dataset in\n",
        "Python. Show the Python code and interpret the results.\n",
        "sample\n",
        "_\n",
        "data = [49.1, 50.2, 51.0, 48.7, 50.5, 49.8, 50.3, 50.7, 50.2, 49.6,\n",
        "50.1, 49.9, 50.8, 50.4, 48.9, 50.6, 50.0, 49.7, 50.2, 49.5,\n",
        "50.1, 50.3, 50.4, 50.5, 50.0, 50.7, 49.3, 49.8, 50.2, 50.9,\n",
        "50.3, 50.4, 50.0, 49.7, 50.5, 49.9]\n",
        "(Include your Python code and output in the code box below.)"
      ],
      "metadata": {
        "id": "dZAmFhDVBuTF"
      }
    },
    {
      "cell_type": "code",
      "source": [
        "import numpy as np\n",
        "from math import sqrt\n",
        "from scipy import stats\n",
        "\n",
        "sample_data = np.array([49.1, 50.2, 51.0, 48.7, 50.5, 49.8, 50.3, 50.7, 50.2, 49.6,\n",
        "                        50.1, 49.9, 50.8, 50.4, 48.9, 50.6, 50.0, 49.7, 50.2, 49.5,\n",
        "                        50.1, 50.3, 50.4, 50.5, 50.0, 50.7, 49.3, 49.8, 50.2, 50.9,\n",
        "                        50.3, 50.4, 50.0, 49.7, 50.5, 49.9])\n",
        "\n",
        "mu0 = 50.0\n",
        "sigma_known = 1.0   # assumption required for a *Z*-test\n",
        "xbar = sample_data.mean()\n",
        "n = sample_data.size\n",
        "z_stat = (xbar - mu0) / (sigma_known / sqrt(n))\n",
        "p_two_sided = 2 * (1 - stats.norm.cdf(abs(z_stat)))\n",
        "\n",
        "print(f\"n={n}, x̄={xbar:.4f}, Z={z_stat:.4f}, p-value={p_two_sided:.6f}\")"
      ],
      "metadata": {
        "colab": {
          "base_uri": "https://localhost:8080/"
        },
        "id": "0tYOkWfhB3Fz",
        "outputId": "f266e0a0-825d-427f-a074-b75e077e61de"
      },
      "execution_count": 2,
      "outputs": [
        {
          "output_type": "stream",
          "name": "stdout",
          "text": [
            "n=36, x̄=50.0889, Z=0.5333, p-value=0.593803\n"
          ]
        }
      ]
    },
    {
      "cell_type": "markdown",
      "source": [
        "With\n",
        "𝑛\n",
        "=\n",
        "36\n",
        "n=36,\n",
        "𝑥\n",
        "ˉ\n",
        "≈\n",
        "50.089\n",
        "x\n",
        "ˉ\n",
        "≈50.089,\n",
        "𝑍\n",
        "≈\n",
        "0.533\n",
        "Z≈0.533, p-value ≈ 0.594.\n",
        "At\n",
        "𝛼\n",
        "=\n",
        "0.05\n",
        "α=0.05 we fail to reject\n",
        "𝐻\n",
        "0\n",
        ":\n",
        "𝜇\n",
        "=\n",
        "50\n",
        "H\n",
        "0\n",
        "\t​\n",
        "\n",
        ":μ=50—there isn’t enough evidence that the true mean differs from 50.\n",
        "(Note: If\n",
        "𝜎\n",
        "σ weren’t known, a t-test should be used; it leads to the same conclusion here.)"
      ],
      "metadata": {
        "id": "0pBOZ6K7CLfK"
      }
    },
    {
      "cell_type": "markdown",
      "source": [
        "Q8: Write a Python script to simulate data from a normal distribution and\n",
        "calculate the 95% confidence interval for its mean. Plot the data using Matplotlib."
      ],
      "metadata": {
        "id": "4oNa4cRHCC4j"
      }
    },
    {
      "cell_type": "code",
      "source": [
        "import numpy as np\n",
        "from math import sqrt\n",
        "from scipy import stats\n",
        "import matplotlib.pyplot as plt\n",
        "\n",
        "np.random.seed(123)\n",
        "N = 200\n",
        "true_mu, true_sigma = 100, 15\n",
        "x = np.random.normal(true_mu, true_sigma, size=N)\n",
        "\n",
        "xbar = x.mean()\n",
        "s = x.std(ddof=1)\n",
        "zcrit = stats.norm.ppf(0.975)   # 1.96\n",
        "margin = zcrit * s / sqrt(N)\n",
        "ci = (xbar - margin, xbar + margin)\n",
        "\n",
        "print(f\"Sample mean={xbar:.3f}, sd={s:.3f}, 95% CI={ci}\")\n",
        "\n",
        "plt.figure()\n",
        "plt.hist(x, bins=20, edgecolor='black', density=True)\n",
        "plt.title(\"Simulated Normal Data — Histogram\")\n",
        "plt.xlabel(\"Value\")\n",
        "plt.ylabel(\"Density\")\n",
        "plt.show()"
      ],
      "metadata": {
        "colab": {
          "base_uri": "https://localhost:8080/",
          "height": 490
        },
        "id": "6Ma1sTpUCX51",
        "outputId": "bd977825-833e-4f22-a057-32f32d6d6b47"
      },
      "execution_count": 3,
      "outputs": [
        {
          "output_type": "stream",
          "name": "stdout",
          "text": [
            "Sample mean=100.057, sd=15.825, 95% CI=(np.float64(97.86355970173182), np.float64(102.2500429719714))\n"
          ]
        },
        {
          "output_type": "display_data",
          "data": {
            "text/plain": [
              "<Figure size 640x480 with 1 Axes>"
            ],
            "image/png": "[encoded data removed]"
          },
          "metadata": {}
        }
      ]
    },
    {
      "cell_type": "markdown",
      "source": [
        "Interpretation: The printed 95% CI should contain the true mean (≈100) most of the time; with\n",
        "𝑁\n",
        "=\n",
        "200\n",
        "N=200, using z-critical or t-critical barely differs."
      ],
      "metadata": {
        "id": "KFzDM4dVC0kM"
      }
    },
    {
      "cell_type": "markdown",
      "source": [
        "9: Write a Python function to calculate the Z-scores from a dataset and\n",
        "visualize the standardized data using a histogram. Explain what the Z-scores represent in terms of standard deviations from the mean."
      ],
      "metadata": {
        "id": "3hEuvdkYCf6U"
      }
    },
    {
      "cell_type": "code",
      "source": [
        "import numpy as np\n",
        "import matplotlib.pyplot as plt\n",
        "\n",
        "def z_scores(data):\n",
        "    x = np.asarray(data, dtype=float)\n",
        "    mu = x.mean()\n",
        "    sd = x.std(ddof=0)\n",
        "    return (x - mu) / sd\n",
        "\n",
        "# Example using the Q8 data 'x':\n",
        "z = z_scores(x)\n",
        "print(f\"Mean(z)={z.mean():.6f}, SD(z)={z.std(ddof=0):.6f}\")\n",
        "\n",
        "plt.figure()\n",
        "plt.hist(z, bins=20, edgecolor='black', density=True)\n",
        "plt.title(\"Histogram of Z-scores (standardized data)\")\n",
        "plt.xlabel(\"Z-score\")\n",
        "plt.ylabel(\"Density\")\n",
        "plt.show()"
      ],
      "metadata": {
        "colab": {
          "base_uri": "https://localhost:8080/",
          "height": 490
        },
        "id": "GY9JoOoVCiEg",
        "outputId": "42720194-b2ff-4904-ea3b-6d79c203d8ba"
      },
      "execution_count": 4,
      "outputs": [
        {
          "output_type": "stream",
          "name": "stdout",
          "text": [
            "Mean(z)=-0.000000, SD(z)=1.000000\n"
          ]
        },
        {
          "output_type": "display_data",
          "data": {
            "text/plain": [
              "<Figure size 640x480 with 1 Axes>"
            ],
            "image/png": "[encoded data removed]"
          },
          "metadata": {}
        }
      ]
    },
    {
      "cell_type": "markdown",
      "source": [
        "What Z-scores represent: Each Z-score tells how many standard deviations an observation lies from the mean.\n",
        "\n",
        "𝑧\n",
        "=\n",
        "+\n",
        "2\n",
        "z=+2 → 2 s.d. above mean (unusually high if data are normal).\n",
        "\n",
        "𝑧\n",
        "=\n",
        "−\n",
        "1.5\n",
        "z=−1.5 → 1.5 s.d. below mean."
      ],
      "metadata": {
        "id": "i-oJsmu_CuYx"
      }
    }
  ]
}